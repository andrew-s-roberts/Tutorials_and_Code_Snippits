{
  "nbformat": 4,
  "nbformat_minor": 0,
  "metadata": {
    "colab": {
      "provenance": [],
      "authorship_tag": "ABX9TyPCyIbGuWp+iEDp1/wkqBpk",
      "include_colab_link": true
    },
    "kernelspec": {
      "name": "python3",
      "display_name": "Python 3"
    },
    "language_info": {
      "name": "python"
    }
  },
  "cells": [
    {
      "cell_type": "markdown",
      "metadata": {
        "id": "view-in-github",
        "colab_type": "text"
      },
      "source": [
        "<a href=\"https://colab.research.google.com/github/andrew-s-roberts/Tutorials_and_Code_Snippits/blob/main/Retrieve_Cambodia_boundaries_from_website.ipynb\" target=\"_parent\"><img src=\"https://colab.research.google.com/assets/colab-badge.svg\" alt=\"Open In Colab\"/></a>"
      ]
    },
    {
      "cell_type": "markdown",
      "source": [
        "#Boundaries for Cambodia \n",
        "Python snippit from Daniel Arribas spatial data science for economists class\n",
        "\n",
        "http://darribas.org/gds4ae/content/data/cambodia_pollution.html?highlight=cambodia\n",
        "\n",
        "From: \"Geographic Data Science for Applied Economists\" online book"
      ],
      "metadata": {
        "id": "EaH39LNHYFgZ"
      }
    },
    {
      "cell_type": "code",
      "execution_count": null,
      "metadata": {
        "id": "voiCn3_tYBM-"
      },
      "outputs": [],
      "source": [
        "#Confirm that WFP geonode is up before using this!\n",
        "#It is also a good skeleton for using this approach to defining boundaries or \n",
        "#a bounding box.\n",
        "\n",
        "url = (\n",
        "    \"https://geonode.wfp.org/geoserver/wfs\"\\\n",
        "    \"?format_options=charset:UTF-8&\"\\\n",
        "    \"typename=geonode:khm_adm2_un&\"\\\n",
        "    \"outputFormat=SHAPE-ZIP&\"\\\n",
        "    \"version=1.0.0&\"\\\n",
        "    \"service=WFS&\"\\\n",
        "    \"request=GetFeature\"\n",
        ")\n",
        "url\n",
        "\n",
        "cam = geopandas.read_file(url)\n",
        "\n",
        "bb = cam.total_bounds\n"
      ]
    }
  ]
}